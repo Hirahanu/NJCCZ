{
 "cells": [
  {
   "cell_type": "markdown",
   "id": "4e6a874f",
   "metadata": {},
   "source": [
    "## Exercise 5.9 - Hirann\n",
    "\n",
    "A text file, `NOI_24_RESULT.txt` contains the results of the medallist recipients for the 24th National Olympiad in Informatics.\n",
    "\n",
    "Write a code to:\n",
    "\n",
    "- read the data from the text file,\n",
    "- store the school name and medal counts in a Python dictionary `medal_count` where the school name is the key and the associated value is a tuple of the form `(GOLD, SILVER, BRONZE)`,\n",
    "- print out the top 5 school with the highest number of medals won, regardless of the medal type. "
   ]
  },
  {
   "cell_type": "code",
   "execution_count": null,
   "id": "29381517",
   "metadata": {},
   "outputs": [],
   "source": [
    "with open('NOI_24_RESULT.csv') as f:\n",
    "    lines = f.readlines()\n",
    "    liner = [line.strip().split(\",\") for line in lines]\n",
    "    liner_gold = liner[liner.index([\"Gold\"])+1:liner.index([\"Silver\"])]\n",
    "    liner_silver = liner[liner.index([\"Silver\"])+1:liner.index([\"Bronze\"])]\n",
    "    liner_bronze = liner[liner.index([\"Bronze\"])+1:]\n",
    "    medal_count_gold = {}\n",
    "    for line in liner_gold:\n",
    "        if line[0] != \"\":\n",
    "            school = line[-1]\n",
    "            medal_count_gold[school] = medal_count_gold.get(school, 0) + 1\n",
    "\n",
    "    medal_count_silver = {}\n",
    "    for line in liner_silver:\n",
    "        if line[0] != \"\":\n",
    "            school = line[-1]\n",
    "            medal_count_silver[school] = medal_count_silver.get(school, 0) + 1\n",
    "\n",
    "    medal_count_bronze = {}\n",
    "    for line in liner_bronze:\n",
    "        if line[0] != \"\":\n",
    "            school = line[-1]\n",
    "            medal_count_bronze[school] = medal_count_bronze.get(school, 0) + 1\n",
    "    medal_count = {}\n",
    "    for school in set(medal_count_gold.keys()) | set(medal_count_silver.keys()) | set(medal_count_bronze.keys()):\n",
    "        gold = medal_count_gold.get(school, 0)\n",
    "        silver = medal_count_silver.get(school, 0)\n",
    "        bronze = medal_count_bronze.get(school, 0)\n",
    "        medal_count[school] = (gold, silver, bronze)\n",
    "        medal_count[school] = (gold, silver, bronze)\n",
    "        if \" Singapore\" in medal_count:\n",
    "            medal_count[\" School of Science and Technology, Singapore\"] = medal_count.pop(\" Singapore\")\n",
    "        medal_count = {key.strip(): value for key, value in medal_count.items()}\n",
    "    print(medal_count)"
   ]
  }
 ],
 "metadata": {
  "language_info": {
   "name": "python"
  }
 },
 "nbformat": 4,
 "nbformat_minor": 5
}
